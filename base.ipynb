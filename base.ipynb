{
 "cells": [
  {
   "cell_type": "code",
   "execution_count": 1,
   "id": "50a6d152",
   "metadata": {},
   "outputs": [
    {
     "name": "stdout",
     "output_type": "stream",
     "text": [
      "Requirement already satisfied: pip in c:\\users\\usuario\\appdata\\local\\programs\\python\\python310\\lib\\site-packages (22.0.4)\n",
      "Collecting pip\n",
      "  Downloading pip-25.2-py3-none-any.whl (1.8 MB)\n",
      "     ---------------------------------------- 1.8/1.8 MB 11.1 MB/s eta 0:00:00\n",
      "Installing collected packages: pip\n",
      "  Attempting uninstall: pip\n",
      "    Found existing installation: pip 22.0.4\n",
      "    Uninstalling pip-22.0.4:\n",
      "      Successfully uninstalled pip-22.0.4\n",
      "Successfully installed pip-25.2\n",
      "Note: you may need to restart the kernel to use updated packages.\n",
      "Collecting cmake\n",
      "  Downloading cmake-4.1.0-py3-none-win_amd64.whl.metadata (6.5 kB)\n",
      "Downloading cmake-4.1.0-py3-none-win_amd64.whl (37.6 MB)\n",
      "   ---------------------------------------- 0.0/37.6 MB ? eta -:--:--\n",
      "   -- ------------------------------------- 2.4/37.6 MB 12.2 MB/s eta 0:00:03\n",
      "   ----- ---------------------------------- 4.7/37.6 MB 11.9 MB/s eta 0:00:03\n",
      "   ------- -------------------------------- 7.3/37.6 MB 11.9 MB/s eta 0:00:03\n",
      "   ---------- ----------------------------- 9.7/37.6 MB 11.8 MB/s eta 0:00:03\n",
      "   ------------- -------------------------- 12.3/37.6 MB 11.9 MB/s eta 0:00:03\n",
      "   --------------- ------------------------ 14.7/37.6 MB 11.8 MB/s eta 0:00:02\n",
      "   ------------------ --------------------- 17.3/37.6 MB 11.8 MB/s eta 0:00:02\n",
      "   --------------------- ------------------ 19.9/37.6 MB 11.9 MB/s eta 0:00:02\n",
      "   ----------------------- ---------------- 22.3/37.6 MB 11.8 MB/s eta 0:00:02\n",
      "   -------------------------- ------------- 24.9/37.6 MB 11.9 MB/s eta 0:00:02\n",
      "   ----------------------------- ---------- 27.3/37.6 MB 11.8 MB/s eta 0:00:01\n",
      "   ------------------------------- -------- 29.9/37.6 MB 11.8 MB/s eta 0:00:01\n",
      "   ---------------------------------- ----- 32.2/37.6 MB 11.8 MB/s eta 0:00:01\n",
      "   ------------------------------------- -- 34.9/37.6 MB 11.8 MB/s eta 0:00:01\n",
      "   ---------------------------------------  37.5/37.6 MB 11.9 MB/s eta 0:00:01\n",
      "   ---------------------------------------- 37.6/37.6 MB 11.7 MB/s  0:00:03\n",
      "Installing collected packages: cmake\n",
      "Successfully installed cmake-4.1.0\n",
      "Note: you may need to restart the kernel to use updated packages.\n"
     ]
    }
   ],
   "source": [
    "%pip install --upgrade pip\n",
    "%pip install cmake"
   ]
  },
  {
   "cell_type": "code",
   "execution_count": 2,
   "id": "9342c20b",
   "metadata": {},
   "outputs": [
    {
     "name": "stdout",
     "output_type": "stream",
     "text": [
      "Requirement already satisfied: opencv-python in c:\\users\\usuario\\appdata\\local\\programs\\python\\python310\\lib\\site-packages (4.12.0.88)\n",
      "Requirement already satisfied: opencv_contrib-python in c:\\users\\usuario\\appdata\\local\\programs\\python\\python310\\lib\\site-packages (4.12.0.88)\n",
      "Requirement already satisfied: numpy<2.3.0,>=2 in c:\\users\\usuario\\appdata\\local\\programs\\python\\python310\\lib\\site-packages (from opencv-python) (2.2.5)\n",
      "Note: you may need to restart the kernel to use updated packages.\n",
      "Collecting face_recognition\n",
      "  Downloading face_recognition-1.3.0-py2.py3-none-any.whl.metadata (21 kB)\n",
      "Collecting face-recognition-models>=0.3.0 (from face_recognition)\n",
      "  Downloading face_recognition_models-0.3.0.tar.gz (100.1 MB)\n",
      "     ---------------------------------------- 0.0/100.1 MB ? eta -:--:--\n",
      "      -------------------------------------- 2.4/100.1 MB 12.2 MB/s eta 0:00:09\n",
      "     - ------------------------------------- 4.7/100.1 MB 11.9 MB/s eta 0:00:09\n",
      "     -- ------------------------------------ 7.3/100.1 MB 11.9 MB/s eta 0:00:08\n",
      "     --- ---------------------------------- 10.0/100.1 MB 11.9 MB/s eta 0:00:08\n",
      "     ---- --------------------------------- 12.3/100.1 MB 11.9 MB/s eta 0:00:08\n",
      "     ----- -------------------------------- 14.9/100.1 MB 11.9 MB/s eta 0:00:08\n",
      "     ------ ------------------------------- 17.3/100.1 MB 11.8 MB/s eta 0:00:07\n",
      "     ------- ------------------------------ 19.9/100.1 MB 11.9 MB/s eta 0:00:07\n",
      "     -------- ----------------------------- 22.3/100.1 MB 11.8 MB/s eta 0:00:07\n",
      "     --------- ---------------------------- 24.9/100.1 MB 11.9 MB/s eta 0:00:07\n",
      "     ---------- --------------------------- 27.5/100.1 MB 11.9 MB/s eta 0:00:07\n",
      "     ----------- -------------------------- 29.9/100.1 MB 11.8 MB/s eta 0:00:06\n",
      "     ------------ ------------------------- 32.5/100.1 MB 11.9 MB/s eta 0:00:06\n",
      "     ------------- ------------------------ 34.9/100.1 MB 11.8 MB/s eta 0:00:06\n",
      "     -------------- ----------------------- 37.5/100.1 MB 11.9 MB/s eta 0:00:06\n",
      "     --------------- ---------------------- 39.8/100.1 MB 11.8 MB/s eta 0:00:06\n",
      "     ---------------- --------------------- 42.5/100.1 MB 11.8 MB/s eta 0:00:05\n",
      "     ----------------- -------------------- 45.1/100.1 MB 11.9 MB/s eta 0:00:05\n",
      "     ------------------ ------------------- 47.4/100.1 MB 11.8 MB/s eta 0:00:05\n",
      "     ------------------ ------------------- 50.1/100.1 MB 11.8 MB/s eta 0:00:05\n",
      "     ------------------- ------------------ 52.4/100.1 MB 11.8 MB/s eta 0:00:05\n",
      "     -------------------- ----------------- 55.1/100.1 MB 11.8 MB/s eta 0:00:04\n",
      "     --------------------- ---------------- 57.4/100.1 MB 11.8 MB/s eta 0:00:04\n",
      "     ---------------------- --------------- 60.0/100.1 MB 11.8 MB/s eta 0:00:04\n",
      "     ----------------------- -------------- 62.4/100.1 MB 11.8 MB/s eta 0:00:04\n",
      "     ------------------------ ------------- 65.0/100.1 MB 11.8 MB/s eta 0:00:03\n",
      "     ------------------------- ------------ 67.4/100.1 MB 11.8 MB/s eta 0:00:03\n",
      "     -------------------------- ----------- 70.0/100.1 MB 11.8 MB/s eta 0:00:03\n",
      "     --------------------------- ---------- 72.4/100.1 MB 11.8 MB/s eta 0:00:03\n",
      "     ---------------------------- --------- 75.0/100.1 MB 11.8 MB/s eta 0:00:03\n",
      "     ----------------------------- -------- 77.3/100.1 MB 11.8 MB/s eta 0:00:02\n",
      "     ------------------------------ ------- 80.0/100.1 MB 11.8 MB/s eta 0:00:02\n",
      "     ------------------------------- ------ 82.3/100.1 MB 11.8 MB/s eta 0:00:02\n",
      "     -------------------------------- ----- 84.7/100.1 MB 11.8 MB/s eta 0:00:02\n",
      "     --------------------------------- ---- 87.3/100.1 MB 11.8 MB/s eta 0:00:02\n",
      "     ---------------------------------- --- 89.9/100.1 MB 11.8 MB/s eta 0:00:01\n",
      "     ----------------------------------- -- 92.3/100.1 MB 11.8 MB/s eta 0:00:01\n",
      "     ------------------------------------ - 94.9/100.1 MB 11.8 MB/s eta 0:00:01\n",
      "     ------------------------------------ - 97.3/100.1 MB 11.8 MB/s eta 0:00:01\n",
      "     -------------------------------------  99.9/100.1 MB 11.8 MB/s eta 0:00:01\n",
      "     ---------------------------------------- 100.1/100.1 MB 11.7 MB/s  0:00:08\n",
      "  Installing build dependencies: started\n",
      "  Installing build dependencies: finished with status 'done'\n",
      "  Getting requirements to build wheel: started\n",
      "  Getting requirements to build wheel: finished with status 'done'\n",
      "  Preparing metadata (pyproject.toml): started\n",
      "  Preparing metadata (pyproject.toml): finished with status 'done'\n",
      "Collecting Click>=6.0 (from face_recognition)\n",
      "  Downloading click-8.2.1-py3-none-any.whl.metadata (2.5 kB)\n",
      "Collecting dlib>=19.7 (from face_recognition)\n",
      "  Downloading dlib-20.0.0.tar.gz (3.3 MB)\n",
      "     ---------------------------------------- 0.0/3.3 MB ? eta -:--:--\n",
      "     ---------------------------- ----------- 2.4/3.3 MB 12.2 MB/s eta 0:00:01\n",
      "     ---------------------------------------- 3.3/3.3 MB 11.5 MB/s  0:00:00\n",
      "  Installing build dependencies: started\n",
      "  Installing build dependencies: finished with status 'done'\n",
      "  Getting requirements to build wheel: started\n",
      "  Getting requirements to build wheel: finished with status 'done'\n",
      "  Preparing metadata (pyproject.toml): started\n",
      "  Preparing metadata (pyproject.toml): finished with status 'done'\n",
      "Requirement already satisfied: numpy in c:\\users\\usuario\\appdata\\local\\programs\\python\\python310\\lib\\site-packages (from face_recognition) (2.2.5)\n",
      "Requirement already satisfied: Pillow in c:\\users\\usuario\\appdata\\local\\programs\\python\\python310\\lib\\site-packages (from face_recognition) (11.2.1)\n",
      "Requirement already satisfied: colorama in c:\\users\\usuario\\appdata\\roaming\\python\\python310\\site-packages (from Click>=6.0->face_recognition) (0.4.6)\n",
      "Downloading face_recognition-1.3.0-py2.py3-none-any.whl (15 kB)\n",
      "Downloading click-8.2.1-py3-none-any.whl (102 kB)\n",
      "Building wheels for collected packages: dlib, face-recognition-models\n",
      "  Building wheel for dlib (pyproject.toml): started\n",
      "  Building wheel for dlib (pyproject.toml): still running...\n",
      "  Building wheel for dlib (pyproject.toml): still running...\n",
      "  Building wheel for dlib (pyproject.toml): finished with status 'done'\n",
      "  Created wheel for dlib: filename=dlib-20.0.0-cp310-cp310-win_amd64.whl size=2946377 sha256=d50bf6c1c3a245a96a5e5fe27117ac721d3d5c0b12068d46d99cd9912a446711\n",
      "  Stored in directory: c:\\users\\usuario\\appdata\\local\\pip\\cache\\wheels\\97\\bc\\4a\\1f441cf62ce4c81ad4f83f298cef0e5ff3af0577ffb4cdff2f\n",
      "  Building wheel for face-recognition-models (pyproject.toml): started\n",
      "  Building wheel for face-recognition-models (pyproject.toml): finished with status 'done'\n",
      "  Created wheel for face-recognition-models: filename=face_recognition_models-0.3.0-py2.py3-none-any.whl size=100566258 sha256=c56a545ce8599a1fbded22fa4045f1287c8e4ee7ba256f48f7858537f226128c\n",
      "  Stored in directory: c:\\users\\usuario\\appdata\\local\\pip\\cache\\wheels\\7a\\eb\\cf\\e9eced74122b679557f597bb7c8e4c739cfcac526db1fd523d\n",
      "Successfully built dlib face-recognition-models\n",
      "Installing collected packages: face-recognition-models, dlib, Click, face_recognition\n",
      "\n",
      "   ---------------------------------------- 0/4 [face-recognition-models]\n",
      "   ---------------------------------------- 0/4 [face-recognition-models]\n",
      "   ---------------------------------------- 0/4 [face-recognition-models]\n",
      "   -------------------- ------------------- 2/4 [Click]\n",
      "   ------------------------------ --------- 3/4 [face_recognition]\n",
      "   ---------------------------------------- 4/4 [face_recognition]\n",
      "\n",
      "Successfully installed Click-8.2.1 dlib-20.0.0 face-recognition-models-0.3.0 face_recognition-1.3.0\n",
      "Note: you may need to restart the kernel to use updated packages.\n",
      "Requirement already satisfied: numpy in c:\\users\\usuario\\appdata\\local\\programs\\python\\python310\\lib\\site-packages (2.2.5)\n",
      "Note: you may need to restart the kernel to use updated packages.\n"
     ]
    }
   ],
   "source": [
    "%pip install opencv-python opencv_contrib-python\n",
    "%pip install face_recognition\n",
    "%pip install numpy "
   ]
  },
  {
   "cell_type": "code",
   "execution_count": 2,
   "id": "038e1e7d",
   "metadata": {},
   "outputs": [],
   "source": [
    "import cv2\n",
    "import face_recognition\n",
    "import os, numpy as np"
   ]
  },
  {
   "cell_type": "code",
   "execution_count": 6,
   "id": "d5a4418a",
   "metadata": {},
   "outputs": [],
   "source": [
    "#Directory to store training images\n",
    "os.makedirs('training_faces', exist_ok=True)\n",
    "os.makedirs('encodings', exist_ok=True)"
   ]
  },
  {
   "cell_type": "markdown",
   "id": "f45ba41d",
   "metadata": {},
   "source": [
    "Save faces"
   ]
  },
  {
   "cell_type": "code",
   "execution_count": 10,
   "id": "07b298fa",
   "metadata": {},
   "outputs": [
    {
     "name": "stdout",
     "output_type": "stream",
     "text": [
      "Image saved at: training_faces/JoseLuis/JoseLuis_1.jpg\n",
      "Image saved at: training_faces/JoseLuis/JoseLuis_2.jpg\n",
      "Image saved at: training_faces/JoseLuis/JoseLuis_3.jpg\n",
      "Image saved at: training_faces/Mafer/Mafer_1.jpg\n"
     ]
    }
   ],
   "source": [
    "\n",
    "def capture_images():\n",
    "    #Name for the captured images\n",
    "    name = input(\"Enter name: \")\n",
    "\n",
    "    #Create a folder for person if it doesnt exist yet\n",
    "    person_folder = f\"training_faces/{name}\"\n",
    "    os.makedirs(person_folder, exist_ok= True)\n",
    "\n",
    "\n",
    "    #Initialize video capture\n",
    "    cap = cv2.VideoCapture(0)\n",
    "\n",
    "    #Frames Loop\n",
    "    while True:\n",
    "        success, frame = cap.read()\n",
    "        if not success:\n",
    "            print(\"Failed to capture frame\")\n",
    "            break\n",
    "\n",
    "        cv2.imshow(\"Training - Press 'c' to capture, 'r' to restart or 'q' to quit\", frame)\n",
    "\n",
    "        #Capture the frame when 'c' is pressed\n",
    "        if cv2.waitKey(1) & 0xFF == ord('c'):\n",
    "            img_path = f'training_faces/{name}/{name}_{len(os.listdir(person_folder))+1}.jpg'\n",
    "            cv2.imwrite(img_path, frame) #Save the original frame\n",
    "            print(f\"Image saved at: {img_path}\")\n",
    "\n",
    "        #Exit loop with when pressing 'q'\n",
    "        if cv2.waitKey(1) & 0xFF == ord('q'):\n",
    "            break\n",
    "        if cv2.waitKey(1) & 0xFF ==ord('r'):\n",
    "            cap.release()\n",
    "            cv2.destroyAllWindows()\n",
    "            return capture_images()\n",
    "\n",
    "    cap.release()\n",
    "    cv2.destroyAllWindows()\n",
    "\n",
    "\n",
    "capture_images()\n"
   ]
  },
  {
   "cell_type": "markdown",
   "id": "90a3c22e",
   "metadata": {},
   "source": [
    "Encode and train based on faces"
   ]
  },
  {
   "cell_type": "code",
   "execution_count": 11,
   "id": "ed3a3468",
   "metadata": {},
   "outputs": [
    {
     "name": "stdout",
     "output_type": "stream",
     "text": [
      "Processing images for JoseLuis\n",
      "Saved 3 encodings for JoseLuis\n",
      "Training has been completed.\n"
     ]
    }
   ],
   "source": [
    "def encode():\n",
    "    training_dir = \"training_faces\"\n",
    "\n",
    "    output_dir = \"encodings\"\n",
    "    #Just in case folder doesnt exist\n",
    "    os.makedirs(output_dir, exist_ok=True)\n",
    "\n",
    "    for person_name in os.listdir(training_dir):\n",
    "        person_folder = os.path.join(training_dir, person_name)\n",
    "\n",
    "\n",
    "        #If folder doesnt exist\n",
    "        if not os.path.isdir(person_folder):\n",
    "            continue\n",
    "\n",
    "        print(f\"Processing images for {person_name}\")\n",
    "\n",
    "\n",
    "        all_encodings = []\n",
    "\n",
    "          \n",
    "        #Go trough each image in a folder\n",
    "        for filename in os.listdir(person_folder):\n",
    "            if filename.lower().endswith((\".jpg\",\".jpeg\", \".png\")):\n",
    "                img_path = os.path.join(person_folder, filename)\n",
    "\n",
    "                #Load image\n",
    "                image = cv2.imread(img_path)\n",
    "                if image is None:\n",
    "                    print(f\" Cannot read {img_path}\")\n",
    "                    continue\n",
    "\n",
    "                img_rgb = cv2.cvtColor(image, cv2.COLOR_BGR2RGB)\n",
    "\n",
    "                #Get face encodings\n",
    "                encodings = face_recognition.face_encodings(img_rgb)\n",
    "                if encodings:\n",
    "                    all_encodings.append(encodings[0])\n",
    "                else:\n",
    "                    print(f\"No face found in file {filename}\")\n",
    "\n",
    "        #Save encodings for that one person\n",
    "        if all_encodings:\n",
    "            np.save(os.path.join(output_dir, f\"{person_name}_encodings.npy\"), np.array(all_encodings))\n",
    "            print(f\"Saved {len(all_encodings)} encodings for {person_name}\")\n",
    "        else:\n",
    "            print(f\"No encodings fouind for {person_name}\")\n",
    "\n",
    "    print(\"Training has been completed.\")\n",
    "\n",
    "\n",
    "encode()"
   ]
  },
  {
   "cell_type": "markdown",
   "id": "d26fcb0e",
   "metadata": {},
   "source": [
    "Load Encodings"
   ]
  },
  {
   "cell_type": "code",
   "execution_count": 13,
   "id": "c1e483d9",
   "metadata": {},
   "outputs": [],
   "source": [
    "def load_encodings(encodings_path):\n",
    "    encodings = []\n",
    "    class_names = []\n",
    "    for file in os.listdir(encodings_path):\n",
    "        if file.endswith(\"_encodings.npy\"):\n",
    "            class_name = file.split('_')[0]\n",
    "            encoding = np.load(os.path.join(encodings_path, file))\n",
    "            encodings.append(encoding)\n",
    "            class_names.append(class_name)\n",
    "    return encodings, class_names"
   ]
  },
  {
   "cell_type": "code",
   "execution_count": null,
   "id": "959af045",
   "metadata": {},
   "outputs": [
    {
     "name": "stdout",
     "output_type": "stream",
     "text": [
      "Loaded classes:['JoseLuis']\n"
     ]
    }
   ],
   "source": [
    "#Path for saved encodings\n",
    "encodings_path = 'encodings'\n",
    "known_encodings, class_names = load_encodings(encodings_path)\n",
    "print(f\"Loaded classes:{class_names}\")"
   ]
  },
  {
   "cell_type": "code",
   "execution_count": null,
   "id": "6f74b523",
   "metadata": {},
   "outputs": [],
   "source": [
    "cap = cv2.VideoCapture(0)\n",
    "scale = 0.25\n",
    "cap = cv2.VideoCapture(0)\n"
   ]
  },
  {
   "cell_type": "code",
   "execution_count": null,
   "id": "0db952c6",
   "metadata": {},
   "outputs": [],
   "source": [
    "def start_program(cap, known_encodings):\n",
    "    while True:\n",
    "        success, frame = cap.read()\n",
    "        if not success:\n",
    "            print(\"Failed to capture frame\")\n",
    "            break\n",
    "        rgb_frame =cv2.cvtColor(frame, cv2.COLOR_BAYER_BG2RGB)\n",
    "\n",
    "        face_locations = face_recognition.face_locations(rgb_frame)\n",
    "        face_encodings = face_recognition.face_encodings(rgb_frame, face_locations)\n",
    "\n",
    "        for face_encoding, face_loaction in zip(face_encodings, face_locations):\n",
    "            matches = face_recognition.compare_faces(known_encodings, face_encoding, tolerance=0.6)\n",
    "            name =\"Unkown\"\n",
    "\n",
    "            if True in matches:\n",
    "                first_match_index = matches.index(True)"
   ]
  }
 ],
 "metadata": {
  "kernelspec": {
   "display_name": "Python 3",
   "language": "python",
   "name": "python3"
  },
  "language_info": {
   "codemirror_mode": {
    "name": "ipython",
    "version": 3
   },
   "file_extension": ".py",
   "mimetype": "text/x-python",
   "name": "python",
   "nbconvert_exporter": "python",
   "pygments_lexer": "ipython3",
   "version": "3.10.4"
  }
 },
 "nbformat": 4,
 "nbformat_minor": 5
}
